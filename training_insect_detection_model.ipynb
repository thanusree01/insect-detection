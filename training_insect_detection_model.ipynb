{
 "cells": [
  {
   "cell_type": "code",
   "execution_count": 656,
   "id": "ee8a2e1f",
   "metadata": {},
   "outputs": [],
   "source": [
    "import numpy as np\n",
    "import tensorflow as tf\n",
    "from keras.preprocessing.image import ImageDataGenerator\n",
    "import matplotlib.pyplot as plt"
   ]
  },
  {
   "cell_type": "code",
   "execution_count": 657,
   "id": "ef24a9cb",
   "metadata": {},
   "outputs": [
    {
     "name": "stdout",
     "output_type": "stream",
     "text": [
      "Found 1099 files belonging to 12 classes.\n"
     ]
    }
   ],
   "source": [
    "training_set = tf.keras.utils.image_dataset_from_directory(\n",
    "    r\"C:\\Users\\thanu\\untitled1\\insectdetection\\dataset\\test\",\n",
    "    labels=\"inferred\",\n",
    "    label_mode=\"categorical\",\n",
    "    class_names=None,\n",
    "    color_mode=\"rgb\",\n",
    "    batch_size=32,\n",
    "    image_size=(128, 128),\n",
    "    shuffle=True,\n",
    "    seed=None,\n",
    "    validation_split=None,\n",
    "    subset=None,\n",
    "    interpolation=\"bilinear\",\n",
    "    follow_links=False,\n",
    "    crop_to_aspect_ratio=False\n",
    ")"
   ]
  },
  {
   "cell_type": "code",
   "execution_count": 658,
   "id": "a7999299",
   "metadata": {},
   "outputs": [
    {
     "name": "stdout",
     "output_type": "stream",
     "text": [
      "Found 3707 files belonging to 12 classes.\n"
     ]
    }
   ],
   "source": [
    "validation_set = tf.keras.utils.image_dataset_from_directory(\n",
    "    r\"C:\\Users\\thanu\\untitled1\\insectdetection\\dataset\\valid\",\n",
    "    labels=\"inferred\",\n",
    "    label_mode=\"categorical\",\n",
    "    class_names=None,\n",
    "    color_mode=\"rgb\",\n",
    "    batch_size=32,\n",
    "    image_size=(128, 128),\n",
    "    shuffle=True,\n",
    "    seed=None,\n",
    "    validation_split=None,\n",
    "    subset=None,\n",
    "    interpolation=\"bilinear\",    \n",
    "    follow_links=False,\n",
    "    crop_to_aspect_ratio=False\n",
    ")\n"
   ]
  },
  {
   "cell_type": "code",
   "execution_count": 659,
   "id": "fb80a33d",
   "metadata": {},
   "outputs": [
    {
     "ename": "SyntaxError",
     "evalue": "incomplete input (2942965159.py, line 1)",
     "output_type": "error",
     "traceback": [
      "\u001b[1;36m  Cell \u001b[1;32mIn[659], line 1\u001b[1;36m\u001b[0m\n\u001b[1;33m    ''''import os\u001b[0m\n\u001b[1;37m    ^\u001b[0m\n\u001b[1;31mSyntaxError\u001b[0m\u001b[1;31m:\u001b[0m incomplete input\n"
     ]
    }
   ],
   "source": [
    "''''import os\n",
    "import cv2\n",
    "\n",
    "\n",
    "dataset_dir = r\"C:\\Users\\thanu\\untitled1\\insectdetection\\dataset\\train\"\n",
    "\n",
    "desired_width = 128\n",
    "desired_height = 128\n",
    "\n",
    "for root, dirs, files in os.walk(dataset_dir):\n",
    "    for filename in files:\n",
    "       \n",
    "        image_path = os.path.join(root, filename)\n",
    "        image = cv2.imread(image_path)\n",
    "        \n",
    "      \n",
    "        if image is not None:\n",
    "            # Resize the image\n",
    "            resized_image = cv2.resize(image, (desired_width, desired_height))\n",
    "            \n",
    "       \n",
    "            cv2.imwrite(image_path, resized_image)\n",
    "            print(\"resize complete\")\n",
    "        else:\n",
    "            print(f\"Warning: Could not read image {image_path}\")\n"
   ]
  },
  {
   "cell_type": "code",
   "execution_count": 660,
   "id": "280bbab3",
   "metadata": {},
   "outputs": [
    {
     "data": {
      "text/plain": [
       "<_PrefetchDataset element_spec=(TensorSpec(shape=(None, 128, 128, 3), dtype=tf.float32, name=None), TensorSpec(shape=(None, 12), dtype=tf.float32, name=None))>"
      ]
     },
     "execution_count": 660,
     "metadata": {},
     "output_type": "execute_result"
    }
   ],
   "source": [
    "validation_set"
   ]
  },
  {
   "cell_type": "code",
   "execution_count": 661,
   "id": "e64fae5b",
   "metadata": {},
   "outputs": [],
   "source": [
    "from tensorflow.keras.layers import Dense,Conv2D\n",
    "from tensorflow.keras.models import Sequential"
   ]
  },
  {
   "cell_type": "code",
   "execution_count": 662,
   "id": "9aaa71aa",
   "metadata": {},
   "outputs": [],
   "source": [
    "cnn = tf.keras.models.Sequential()"
   ]
  },
  {
   "cell_type": "code",
   "execution_count": 663,
   "id": "2d5c8f5d",
   "metadata": {},
   "outputs": [],
   "source": [
    "###Building Convolution Layer"
   ]
  },
  {
   "cell_type": "code",
   "execution_count": 664,
   "id": "34a4240b",
   "metadata": {},
   "outputs": [],
   "source": [
    "cnn.add(tf.keras.layers.Conv2D(filters=32,kernel_size=3,padding='same',activation='relu',input_shape=[128,128,3]))\n",
    "cnn.add(tf.keras.layers.Conv2D(filters=32,kernel_size=3,activation='relu'))\n",
    "cnn.add(tf.keras.layers.MaxPool2D(pool_size=2,strides=2))"
   ]
  },
  {
   "cell_type": "code",
   "execution_count": 665,
   "id": "c498c8c8",
   "metadata": {},
   "outputs": [],
   "source": [
    "cnn.add(tf.keras.layers.Conv2D(filters=64,kernel_size=3,padding='same',activation='relu'))\n",
    "cnn.add(tf.keras.layers.Conv2D(filters=64,kernel_size=3,activation='relu'))\n",
    "cnn.add(tf.keras.layers.MaxPool2D(pool_size=2,strides=2))"
   ]
  },
  {
   "cell_type": "code",
   "execution_count": 666,
   "id": "db140d7e",
   "metadata": {},
   "outputs": [],
   "source": [
    "cnn.add(tf.keras.layers.Conv2D(filters=128,kernel_size=3,padding='same',activation='relu'))\n",
    "cnn.add(tf.keras.layers.Conv2D(filters=128,kernel_size=3,activation='relu'))\n",
    "cnn.add(tf.keras.layers.MaxPool2D(pool_size=2,strides=2))"
   ]
  },
  {
   "cell_type": "code",
   "execution_count": 667,
   "id": "40ff4e37",
   "metadata": {},
   "outputs": [],
   "source": [
    "cnn.add(tf.keras.layers.Conv2D(filters=256,kernel_size=3,padding='same',activation='relu'))\n",
    "cnn.add(tf.keras.layers.Conv2D(filters=256,kernel_size=3,activation='relu'))\n",
    "cnn.add(tf.keras.layers.MaxPool2D(pool_size=2,strides=2))"
   ]
  },
  {
   "cell_type": "code",
   "execution_count": 668,
   "id": "033ee0e7",
   "metadata": {},
   "outputs": [],
   "source": [
    "cnn.add(tf.keras.layers.Conv2D(filters=512,kernel_size=3,padding='same',activation='relu'))\n",
    "cnn.add(tf.keras.layers.Conv2D(filters=512,kernel_size=3,activation='relu'))\n",
    "cnn.add(tf.keras.layers.MaxPool2D(pool_size=2,strides=2))"
   ]
  },
  {
   "cell_type": "code",
   "execution_count": 669,
   "id": "51d06989",
   "metadata": {},
   "outputs": [],
   "source": [
    "cnn.add(tf.keras.layers.Dropout(0.25))"
   ]
  },
  {
   "cell_type": "code",
   "execution_count": 670,
   "id": "1788744e",
   "metadata": {},
   "outputs": [],
   "source": [
    "cnn.add(tf.keras.layers.Flatten())"
   ]
  },
  {
   "cell_type": "code",
   "execution_count": 671,
   "id": "4412108d",
   "metadata": {},
   "outputs": [],
   "source": [
    "cnn.add(tf.keras.layers.Dense(units=1100,activation='relu'))"
   ]
  },
  {
   "cell_type": "code",
   "execution_count": 672,
   "id": "e445bb89",
   "metadata": {},
   "outputs": [],
   "source": [
    "cnn.add(tf.keras.layers.Dropout(0.4))"
   ]
  },
  {
   "cell_type": "code",
   "execution_count": 673,
   "id": "fd5bd7b5",
   "metadata": {},
   "outputs": [],
   "source": [
    "cnn.add(tf.keras.layers.Dense(units=12,activation='softmax'))"
   ]
  },
  {
   "cell_type": "code",
   "execution_count": 674,
   "id": "3a8c8d84",
   "metadata": {},
   "outputs": [],
   "source": [
    "cnn.compile(optimizer=tf.keras.optimizers.legacy.Adam(\n",
    "    learning_rate=0.0001),loss='categorical_crossentropy',metrics=['accuracy'])"
   ]
  },
  {
   "cell_type": "code",
   "execution_count": 675,
   "id": "2f4795ff",
   "metadata": {},
   "outputs": [
    {
     "name": "stdout",
     "output_type": "stream",
     "text": [
      "Model: \"sequential_22\"\n",
      "_________________________________________________________________\n",
      " Layer (type)                Output Shape              Param #   \n",
      "=================================================================\n",
      " conv2d_243 (Conv2D)         (None, 128, 128, 32)      896       \n",
      "                                                                 \n",
      " conv2d_244 (Conv2D)         (None, 126, 126, 32)      9248      \n",
      "                                                                 \n",
      " max_pooling2d_110 (MaxPool  (None, 63, 63, 32)        0         \n",
      " ing2D)                                                          \n",
      "                                                                 \n",
      " conv2d_245 (Conv2D)         (None, 63, 63, 64)        18496     \n",
      "                                                                 \n",
      " conv2d_246 (Conv2D)         (None, 61, 61, 64)        36928     \n",
      "                                                                 \n",
      " max_pooling2d_111 (MaxPool  (None, 30, 30, 64)        0         \n",
      " ing2D)                                                          \n",
      "                                                                 \n",
      " conv2d_247 (Conv2D)         (None, 30, 30, 128)       73856     \n",
      "                                                                 \n",
      " conv2d_248 (Conv2D)         (None, 28, 28, 128)       147584    \n",
      "                                                                 \n",
      " max_pooling2d_112 (MaxPool  (None, 14, 14, 128)       0         \n",
      " ing2D)                                                          \n",
      "                                                                 \n",
      " conv2d_249 (Conv2D)         (None, 14, 14, 256)       295168    \n",
      "                                                                 \n",
      " conv2d_250 (Conv2D)         (None, 12, 12, 256)       590080    \n",
      "                                                                 \n",
      " max_pooling2d_113 (MaxPool  (None, 6, 6, 256)         0         \n",
      " ing2D)                                                          \n",
      "                                                                 \n",
      " conv2d_251 (Conv2D)         (None, 6, 6, 512)         1180160   \n",
      "                                                                 \n",
      " conv2d_252 (Conv2D)         (None, 4, 4, 512)         2359808   \n",
      "                                                                 \n",
      " max_pooling2d_114 (MaxPool  (None, 2, 2, 512)         0         \n",
      " ing2D)                                                          \n",
      "                                                                 \n",
      " dropout_46 (Dropout)        (None, 2, 2, 512)         0         \n",
      "                                                                 \n",
      " flatten_21 (Flatten)        (None, 2048)              0         \n",
      "                                                                 \n",
      " dense_48 (Dense)            (None, 1100)              2253900   \n",
      "                                                                 \n",
      " dropout_47 (Dropout)        (None, 1100)              0         \n",
      "                                                                 \n",
      " dense_49 (Dense)            (None, 12)                13212     \n",
      "                                                                 \n",
      "=================================================================\n",
      "Total params: 6979336 (26.62 MB)\n",
      "Trainable params: 6979336 (26.62 MB)\n",
      "Non-trainable params: 0 (0.00 Byte)\n",
      "_________________________________________________________________\n"
     ]
    }
   ],
   "source": [
    "cnn.summary()"
   ]
  },
  {
   "cell_type": "code",
   "execution_count": 685,
   "id": "d2c226a0",
   "metadata": {},
   "outputs": [
    {
     "name": "stdout",
     "output_type": "stream",
     "text": [
      "Epoch 1/10\n",
      "35/35 [==============================] - 71s 2s/step - loss: 0.2381 - accuracy: 0.9199 - val_loss: 2.9141 - val_accuracy: 0.4394\n",
      "Epoch 2/10\n",
      "35/35 [==============================] - 67s 2s/step - loss: 0.1505 - accuracy: 0.9500 - val_loss: 2.9204 - val_accuracy: 0.4421\n",
      "Epoch 3/10\n",
      "35/35 [==============================] - 64s 2s/step - loss: 0.1653 - accuracy: 0.9472 - val_loss: 3.0050 - val_accuracy: 0.4467\n",
      "Epoch 4/10\n",
      "35/35 [==============================] - 64s 2s/step - loss: 0.2164 - accuracy: 0.9399 - val_loss: 2.9514 - val_accuracy: 0.4411\n",
      "Epoch 5/10\n",
      "35/35 [==============================] - 66s 2s/step - loss: 0.1467 - accuracy: 0.9554 - val_loss: 2.8948 - val_accuracy: 0.4570\n",
      "Epoch 6/10\n",
      "35/35 [==============================] - 68s 2s/step - loss: 0.0962 - accuracy: 0.9636 - val_loss: 3.8587 - val_accuracy: 0.3944\n",
      "Epoch 7/10\n",
      "35/35 [==============================] - 70s 2s/step - loss: 0.0807 - accuracy: 0.9736 - val_loss: 3.3048 - val_accuracy: 0.4429\n",
      "Epoch 8/10\n",
      "35/35 [==============================] - 70s 2s/step - loss: 0.0748 - accuracy: 0.9809 - val_loss: 3.7694 - val_accuracy: 0.4416\n",
      "Epoch 9/10\n",
      "35/35 [==============================] - 68s 2s/step - loss: 0.0702 - accuracy: 0.9773 - val_loss: 3.4169 - val_accuracy: 0.4502\n",
      "Epoch 10/10\n",
      "35/35 [==============================] - 65s 2s/step - loss: 0.0463 - accuracy: 0.9900 - val_loss: 3.6711 - val_accuracy: 0.4510\n"
     ]
    }
   ],
   "source": [
    "training_history = cnn.fit(x=training_set,validation_data=validation_set,epochs=10)"
   ]
  },
  {
   "cell_type": "code",
   "execution_count": 686,
   "id": "d55fcc57",
   "metadata": {},
   "outputs": [
    {
     "name": "stdout",
     "output_type": "stream",
     "text": [
      "35/35 [==============================] - 7s 185ms/step - loss: 0.0058 - accuracy: 0.9991\n",
      "Training accuracy: 0.9990900754928589\n"
     ]
    }
   ],
   "source": [
    "train_loss, train_acc = cnn.evaluate(training_set)\n",
    "print('Training accuracy:', train_acc)"
   ]
  },
  {
   "cell_type": "code",
   "execution_count": 687,
   "id": "cc44acba",
   "metadata": {},
   "outputs": [
    {
     "name": "stdout",
     "output_type": "stream",
     "text": [
      "116/116 [==============================] - 22s 189ms/step - loss: 3.6711 - accuracy: 0.4510\n",
      "Validation accuracy: 0.45103856921195984\n"
     ]
    }
   ],
   "source": [
    "val_loss, val_acc = cnn.evaluate(validation_set)\n",
    "print('Validation accuracy:', val_acc)"
   ]
  },
  {
   "cell_type": "code",
   "execution_count": 688,
   "id": "fbfe8227",
   "metadata": {},
   "outputs": [],
   "source": [
    "cnn.save('trained_insect_detection.keras')"
   ]
  },
  {
   "cell_type": "code",
   "execution_count": 690,
   "id": "9408c33a",
   "metadata": {},
   "outputs": [
    {
     "data": {
      "image/png": "[encoded data removed]",
      "text/plain": [
       "<Figure size 640x480 with 1 Axes>"
      ]
     },
     "metadata": {},
     "output_type": "display_data"
    }
   ],
   "source": [
    "epochs = [i for i in range(1,11)]\n",
    "plt.plot(epochs,training_history.history['accuracy'],color='red',label='Training Accuracy')\n",
    "plt.xlabel('No. of Epochs')\n",
    "plt.title('Visualization of Accuracy Result')\n",
    "plt.legend()\n",
    "plt.show()"
   ]
  },
  {
   "cell_type": "code",
   "execution_count": null,
   "id": "5b00cee4",
   "metadata": {},
   "outputs": [],
   "source": []
  }
 ],
 "metadata": {
  "kernelspec": {
   "display_name": "Python 3 (ipykernel)",
   "language": "python",
   "name": "python3"
  },
  "language_info": {
   "codemirror_mode": {
    "name": "ipython",
    "version": 3
   },
   "file_extension": ".py",
   "mimetype": "text/x-python",
   "name": "python",
   "nbconvert_exporter": "python",
   "pygments_lexer": "ipython3",
   "version": "3.10.9"
  }
 },
 "nbformat": 4,
 "nbformat_minor": 5
}
